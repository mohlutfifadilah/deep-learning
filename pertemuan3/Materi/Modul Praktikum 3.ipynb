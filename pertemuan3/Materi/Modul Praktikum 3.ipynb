{
 "cells": [
  {
   "cell_type": "markdown",
   "id": "4b0e7f18",
   "metadata": {},
   "source": [
    "<h1 style=\"text-align:center\">KLASIFIKASI MULTI KELAS</h1> "
   ]
  },
  {
   "cell_type": "markdown",
   "id": "4735793a",
   "metadata": {},
   "source": [
    "# Softmax\n",
    "\n",
    "`softmax` kita pergunakan jika kelas yang kita klasifikasikan/kategorikan berjumlah di atas sama dengan 2 kelas. Berarti untuk klasifikasi dengan kelas berjumlah 3, 4, 5, dan seterusnya, kita wajib menggunakan `softmax`.\n",
    "\n",
    "Apakah 2 kelas bisa juga kita pergunakanan `softmax` untuk activation-nya? Bisa. Selain menggunakan `sigmoid`, kita bisa menggunakan `softmax` juga untuk kasus-kasus klasifikasi biner/binary."
   ]
  },
  {
   "cell_type": "markdown",
   "id": "e0359c17",
   "metadata": {},
   "source": [
    "# Persiapan Data"
   ]
  },
  {
   "cell_type": "code",
   "execution_count": null,
   "id": "89ea1524",
   "metadata": {},
   "outputs": [],
   "source": []
  },
  {
   "cell_type": "markdown",
   "id": "99e25d13",
   "metadata": {},
   "source": [
    "# Membagi Dataset"
   ]
  },
  {
   "cell_type": "code",
   "execution_count": null,
   "id": "b31746aa",
   "metadata": {},
   "outputs": [],
   "source": []
  },
  {
   "cell_type": "markdown",
   "id": "b8334db4",
   "metadata": {},
   "source": [
    "# Membuat Arsitektur Model"
   ]
  },
  {
   "cell_type": "code",
   "execution_count": null,
   "id": "fbecb201",
   "metadata": {},
   "outputs": [],
   "source": []
  },
  {
   "cell_type": "markdown",
   "id": "73658eb1",
   "metadata": {},
   "source": [
    "# Compile Model"
   ]
  },
  {
   "cell_type": "code",
   "execution_count": null,
   "id": "29972405",
   "metadata": {},
   "outputs": [],
   "source": []
  },
  {
   "cell_type": "markdown",
   "id": "b22f18f3",
   "metadata": {},
   "source": [
    "# Training Model"
   ]
  },
  {
   "cell_type": "code",
   "execution_count": null,
   "id": "f4aafb24",
   "metadata": {},
   "outputs": [],
   "source": []
  },
  {
   "cell_type": "markdown",
   "id": "4ed62940",
   "metadata": {},
   "source": [
    "# Plot Performa Model"
   ]
  },
  {
   "cell_type": "code",
   "execution_count": null,
   "id": "09d34ec0",
   "metadata": {},
   "outputs": [],
   "source": []
  },
  {
   "cell_type": "markdown",
   "id": "0aecfb97",
   "metadata": {},
   "source": [
    "# Evaluasi Model"
   ]
  },
  {
   "cell_type": "code",
   "execution_count": null,
   "id": "586b3ba8",
   "metadata": {},
   "outputs": [],
   "source": []
  },
  {
   "cell_type": "code",
   "execution_count": null,
   "id": "4cb8e4cf",
   "metadata": {},
   "outputs": [],
   "source": [
    "# accuracy score"
   ]
  },
  {
   "cell_type": "markdown",
   "id": "51b2722b",
   "metadata": {},
   "source": [
    "# Prediksi Model"
   ]
  },
  {
   "cell_type": "code",
   "execution_count": null,
   "id": "af3db4f3",
   "metadata": {},
   "outputs": [],
   "source": []
  },
  {
   "cell_type": "markdown",
   "id": "c22e5aa1",
   "metadata": {},
   "source": [
    "Di sini, kita akan menggunakan fungsi spesial `np.argmax` untuk mengecek kelas dengan probabilitas tertinggi. Misal jika di antara 5 kelas, hasil prediksinya sebagai berikut,\n",
    "\n",
    "`y_pred = [0.1, 0.3, 0.2, 0.8, 0.4]`\n",
    "\n",
    "maka kita bisa pahami bahwa \n",
    "\n",
    "1. `kelas 0` memiliki probabilitas $10\\%$,\n",
    "2. `kelas 1` memiliki probabilitas $30\\%$,\n",
    "3. `kelas 2` memiliki probabilitas $20\\%$, \n",
    "4. `kelas 3` memiliki probabilitas $80\\%$, dan \n",
    "5. `kelas 4` memiliki probabilitas $40\\%$.\n",
    "\n",
    "Artinya `y_pred` kemungkinan besar termasuk kategori `kelas 3`, diikuti kemungkinan besar kedua, dia termasuk kategori `kelas 4`, dan seterusnya.\n",
    "\n",
    "Nah, jika kita menggunakan `np.argmax`, maka `np.argmax(y_pred)` akan menghasilkan nilai `3`."
   ]
  },
  {
   "cell_type": "code",
   "execution_count": null,
   "id": "a967a3cc",
   "metadata": {},
   "outputs": [],
   "source": []
  },
  {
   "cell_type": "markdown",
   "id": "bb6df505",
   "metadata": {},
   "source": [
    "# Evaluasi dengan Confusion Matrix"
   ]
  },
  {
   "cell_type": "code",
   "execution_count": null,
   "id": "b5090f8e",
   "metadata": {},
   "outputs": [],
   "source": []
  },
  {
   "cell_type": "markdown",
   "id": "69314b42",
   "metadata": {},
   "source": [
    "# Simpan Model"
   ]
  },
  {
   "cell_type": "markdown",
   "id": "5654db91",
   "metadata": {},
   "source": [
    "Mentraining suatu model membutuhkan waktu yang tidak sedikit, maka dari itu penting kita untuk menyimpan model yang sudah kita training. Untuk menyimpan model, kita bisa pergunakan fungsi `.save_weights`."
   ]
  },
  {
   "cell_type": "code",
   "execution_count": null,
   "id": "1d512460",
   "metadata": {},
   "outputs": [],
   "source": []
  },
  {
   "cell_type": "markdown",
   "id": "7016063b",
   "metadata": {},
   "source": [
    "Jika sudah disimpan, maka anda bisa mendowload file `h5` ini, untuk kemudian anda pakai atau anda transfer kepada orang lain atau komputer untuk langsung anda pergunakan untuk memprediksi sesuatu, atau juga anda bisa lakukan melanjutkan training pada otak yang sudah anda buat.\n",
    "\n",
    "Untuk meload file `h5` ini, anda perlu menyiapkan \n",
    "\n",
    "1. Kerangka otak yang anda buat,\n",
    "2. Compile kerangka otak anda,\n",
    "3. Load file `h5` anda menggunakan `.load_weights`."
   ]
  },
  {
   "cell_type": "code",
   "execution_count": null,
   "id": "7f7a34aa",
   "metadata": {},
   "outputs": [],
   "source": []
  }
 ],
 "metadata": {
  "kernelspec": {
   "display_name": "Python 3 (ipykernel)",
   "language": "python",
   "name": "python3"
  },
  "language_info": {
   "codemirror_mode": {
    "name": "ipython",
    "version": 3
   },
   "file_extension": ".py",
   "mimetype": "text/x-python",
   "name": "python",
   "nbconvert_exporter": "python",
   "pygments_lexer": "ipython3",
   "version": "3.8.3"
  }
 },
 "nbformat": 4,
 "nbformat_minor": 5
}
